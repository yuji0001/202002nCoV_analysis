{
 "cells": [
  {
   "cell_type": "code",
   "execution_count": 9,
   "metadata": {},
   "outputs": [],
   "source": [
    "import folium\n",
    "import pandas as pd\n",
    "import warnings\n",
    "warnings.filterwarnings('ignore')"
   ]
  },
  {
   "cell_type": "code",
   "execution_count": null,
   "metadata": {},
   "outputs": [],
   "source": []
  },
  {
   "cell_type": "code",
   "execution_count": 3,
   "metadata": {},
   "outputs": [
    {
     "data": {
      "text/html": [
       "<div>\n",
       "<style scoped>\n",
       "    .dataframe tbody tr th:only-of-type {\n",
       "        vertical-align: middle;\n",
       "    }\n",
       "\n",
       "    .dataframe tbody tr th {\n",
       "        vertical-align: top;\n",
       "    }\n",
       "\n",
       "    .dataframe thead th {\n",
       "        text-align: right;\n",
       "    }\n",
       "</style>\n",
       "<table border=\"1\" class=\"dataframe\">\n",
       "  <thead>\n",
       "    <tr style=\"text-align: right;\">\n",
       "      <th></th>\n",
       "      <th>Province/State</th>\n",
       "      <th>population</th>\n",
       "      <th>latitude</th>\n",
       "      <th>longitude</th>\n",
       "    </tr>\n",
       "  </thead>\n",
       "  <tbody>\n",
       "    <tr>\n",
       "      <th>0</th>\n",
       "      <td>Guangdong</td>\n",
       "      <td>111690000</td>\n",
       "      <td>23.24</td>\n",
       "      <td>113.30</td>\n",
       "    </tr>\n",
       "    <tr>\n",
       "      <th>1</th>\n",
       "      <td>Shandong</td>\n",
       "      <td>100060000</td>\n",
       "      <td>36.24</td>\n",
       "      <td>118.24</td>\n",
       "    </tr>\n",
       "    <tr>\n",
       "      <th>2</th>\n",
       "      <td>Henan</td>\n",
       "      <td>95590000</td>\n",
       "      <td>33.54</td>\n",
       "      <td>113.30</td>\n",
       "    </tr>\n",
       "    <tr>\n",
       "      <th>3</th>\n",
       "      <td>Sichuan</td>\n",
       "      <td>83020000</td>\n",
       "      <td>30.08</td>\n",
       "      <td>102.56</td>\n",
       "    </tr>\n",
       "    <tr>\n",
       "      <th>4</th>\n",
       "      <td>Jiangsu</td>\n",
       "      <td>80290000</td>\n",
       "      <td>32.54</td>\n",
       "      <td>119.48</td>\n",
       "    </tr>\n",
       "    <tr>\n",
       "      <th>5</th>\n",
       "      <td>Hebei</td>\n",
       "      <td>75200000</td>\n",
       "      <td>39.18</td>\n",
       "      <td>116.42</td>\n",
       "    </tr>\n",
       "    <tr>\n",
       "      <th>6</th>\n",
       "      <td>Hunan</td>\n",
       "      <td>68600000</td>\n",
       "      <td>28.06</td>\n",
       "      <td>112.59</td>\n",
       "    </tr>\n",
       "    <tr>\n",
       "      <th>7</th>\n",
       "      <td>Anhui</td>\n",
       "      <td>62550000</td>\n",
       "      <td>31.50</td>\n",
       "      <td>117.00</td>\n",
       "    </tr>\n",
       "    <tr>\n",
       "      <th>8</th>\n",
       "      <td>Hubei</td>\n",
       "      <td>59020000</td>\n",
       "      <td>31.12</td>\n",
       "      <td>112.18</td>\n",
       "    </tr>\n",
       "    <tr>\n",
       "      <th>9</th>\n",
       "      <td>Zhejiang</td>\n",
       "      <td>56570000</td>\n",
       "      <td>29.12</td>\n",
       "      <td>129.30</td>\n",
       "    </tr>\n",
       "  </tbody>\n",
       "</table>\n",
       "</div>"
      ],
      "text/plain": [
       "  Province/State  population  latitude  longitude\n",
       "0      Guangdong   111690000     23.24     113.30\n",
       "1       Shandong   100060000     36.24     118.24\n",
       "2          Henan    95590000     33.54     113.30\n",
       "3        Sichuan    83020000     30.08     102.56\n",
       "4        Jiangsu    80290000     32.54     119.48\n",
       "5          Hebei    75200000     39.18     116.42\n",
       "6          Hunan    68600000     28.06     112.59\n",
       "7          Anhui    62550000     31.50     117.00\n",
       "8          Hubei    59020000     31.12     112.18\n",
       "9       Zhejiang    56570000     29.12     129.30"
      ]
     },
     "execution_count": 3,
     "metadata": {},
     "output_type": "execute_result"
    }
   ],
   "source": [
    "df_china = pd.read_csv('data/2017_China_data.csv')\n",
    "df_china.head(10)"
   ]
  },
  {
   "cell_type": "code",
   "execution_count": 4,
   "metadata": {},
   "outputs": [],
   "source": [
    "loc_china = [35,112]\n"
   ]
  },
  {
   "cell_type": "code",
   "execution_count": 8,
   "metadata": {},
   "outputs": [],
   "source": [
    "m = folium.Map(location=loc_china,zoom_start=4,title = 'nCo2019 in China')\n",
    "m.save('tmp_imgs/test.html')"
   ]
  },
  {
   "cell_type": "code",
   "execution_count": null,
   "metadata": {},
   "outputs": [],
   "source": []
  }
 ],
 "metadata": {
  "kernelspec": {
   "display_name": "Python 3",
   "language": "python",
   "name": "python3"
  },
  "language_info": {
   "codemirror_mode": {
    "name": "ipython",
    "version": 3
   },
   "file_extension": ".py",
   "mimetype": "text/x-python",
   "name": "python",
   "nbconvert_exporter": "python",
   "pygments_lexer": "ipython3",
   "version": "3.7.4"
  }
 },
 "nbformat": 4,
 "nbformat_minor": 2
}
