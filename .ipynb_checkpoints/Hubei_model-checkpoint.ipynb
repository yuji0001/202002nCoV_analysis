{
 "cells": [
  {
   "cell_type": "markdown",
   "metadata": {},
   "source": [
    "武漢の数理モデル作成とパラメータフィッティング\n",
    "===\n",
    "\n",
    "このコードは\n",
    "1. 武漢のSIRモデル及び，SIERモデルを用いた数理モデル化\n",
    "1. パラメータフィッティング\n",
    "1. 被害の予測\n",
    "を行う"
   ]
  },
  {
   "cell_type": "code",
   "execution_count": 50,
   "metadata": {},
   "outputs": [],
   "source": [
    "import numpy as np\n",
    "import pandas as pd\n",
    "import matplotlib.pyplot as plt\n",
    "import datetime"
   ]
  },
  {
   "cell_type": "markdown",
   "metadata": {},
   "source": [
    "## 武漢のデータのimport"
   ]
  },
  {
   "cell_type": "code",
   "execution_count": 6,
   "metadata": {},
   "outputs": [],
   "source": [
    "target_place = 'Hubei'"
   ]
  },
  {
   "cell_type": "code",
   "execution_count": 25,
   "metadata": {},
   "outputs": [],
   "source": [
    "# Nの導出\n",
    "df_p = pd.read_csv('data/2017_China_data.csv')\n",
    "N = df_p[df_p['Province/State'] == target_place].population.values[0]"
   ]
  },
  {
   "cell_type": "code",
   "execution_count": 51,
   "metadata": {},
   "outputs": [
    {
     "name": "stderr",
     "output_type": "stream",
     "text": [
      "/Users/yuji/.pyenv/versions/3.7.4/lib/python3.7/site-packages/ipykernel_launcher.py:3: SettingWithCopyWarning: \n",
      "A value is trying to be set on a copy of a slice from a DataFrame\n",
      "\n",
      "See the caveats in the documentation: http://pandas.pydata.org/pandas-docs/stable/user_guide/indexing.html#returning-a-view-versus-a-copy\n",
      "  This is separate from the ipykernel package so we can avoid doing imports until\n",
      "/Users/yuji/.pyenv/versions/3.7.4/lib/python3.7/site-packages/ipykernel_launcher.py:5: SettingWithCopyWarning: \n",
      "A value is trying to be set on a copy of a slice from a DataFrame\n",
      "\n",
      "See the caveats in the documentation: http://pandas.pydata.org/pandas-docs/stable/user_guide/indexing.html#returning-a-view-versus-a-copy\n",
      "  \"\"\"\n"
     ]
    }
   ],
   "source": [
    "# Preprocessing\n",
    "df_disease = pd.read_csv('data/2019_nCoV_data.csv')\n",
    "df_disease.Country[df_disease.Country == 'China'] = 'Mainland China'\n",
    "# 台湾の国名をTiwanに統一\n",
    "df_disease.Country[df_disease['Province/State']=='Taiwan'] = 'Taiwan'\n",
    "# 時系列データの抜き出し\n"
   ]
  },
  {
   "cell_type": "code",
   "execution_count": 105,
   "metadata": {},
   "outputs": [
    {
     "name": "stderr",
     "output_type": "stream",
     "text": [
      "/Users/yuji/.pyenv/versions/3.7.4/lib/python3.7/site-packages/pandas/core/generic.py:5208: SettingWithCopyWarning: \n",
      "A value is trying to be set on a copy of a slice from a DataFrame.\n",
      "Try using .loc[row_indexer,col_indexer] = value instead\n",
      "\n",
      "See the caveats in the documentation: http://pandas.pydata.org/pandas-docs/stable/user_guide/indexing.html#returning-a-view-versus-a-copy\n",
      "  self[name] = value\n",
      "/Users/yuji/.pyenv/versions/3.7.4/lib/python3.7/site-packages/ipykernel_launcher.py:5: SettingWithCopyWarning: \n",
      "A value is trying to be set on a copy of a slice from a DataFrame\n",
      "\n",
      "See the caveats in the documentation: http://pandas.pydata.org/pandas-docs/stable/user_guide/indexing.html#returning-a-view-versus-a-copy\n",
      "  \"\"\"\n",
      "/Users/yuji/.pyenv/versions/3.7.4/lib/python3.7/site-packages/pandas/core/generic.py:9114: SettingWithCopyWarning: \n",
      "A value is trying to be set on a copy of a slice from a DataFrame\n",
      "\n",
      "See the caveats in the documentation: http://pandas.pydata.org/pandas-docs/stable/user_guide/indexing.html#returning-a-view-versus-a-copy\n",
      "  self._update_inplace(new_data)\n",
      "/Users/yuji/.pyenv/versions/3.7.4/lib/python3.7/site-packages/IPython/core/interactiveshell.py:3326: SettingWithCopyWarning: \n",
      "A value is trying to be set on a copy of a slice from a DataFrame\n",
      "\n",
      "See the caveats in the documentation: http://pandas.pydata.org/pandas-docs/stable/user_guide/indexing.html#returning-a-view-versus-a-copy\n",
      "  exec(code_obj, self.user_global_ns, self.user_ns)\n",
      "/Users/yuji/.pyenv/versions/3.7.4/lib/python3.7/site-packages/ipykernel_launcher.py:7: SettingWithCopyWarning: \n",
      "A value is trying to be set on a copy of a slice from a DataFrame.\n",
      "Try using .loc[row_indexer,col_indexer] = value instead\n",
      "\n",
      "See the caveats in the documentation: http://pandas.pydata.org/pandas-docs/stable/user_guide/indexing.html#returning-a-view-versus-a-copy\n",
      "  import sys\n",
      "/Users/yuji/.pyenv/versions/3.7.4/lib/python3.7/site-packages/ipykernel_launcher.py:8: SettingWithCopyWarning: \n",
      "A value is trying to be set on a copy of a slice from a DataFrame.\n",
      "Try using .loc[row_indexer,col_indexer] = value instead\n",
      "\n",
      "See the caveats in the documentation: http://pandas.pydata.org/pandas-docs/stable/user_guide/indexing.html#returning-a-view-versus-a-copy\n",
      "  \n"
     ]
    },
    {
     "data": {
      "text/html": [
       "<div>\n",
       "<style scoped>\n",
       "    .dataframe tbody tr th:only-of-type {\n",
       "        vertical-align: middle;\n",
       "    }\n",
       "\n",
       "    .dataframe tbody tr th {\n",
       "        vertical-align: top;\n",
       "    }\n",
       "\n",
       "    .dataframe thead th {\n",
       "        text-align: right;\n",
       "    }\n",
       "</style>\n",
       "<table border=\"1\" class=\"dataframe\">\n",
       "  <thead>\n",
       "    <tr style=\"text-align: right;\">\n",
       "      <th></th>\n",
       "      <th>Sno</th>\n",
       "      <th>Date</th>\n",
       "      <th>Province/State</th>\n",
       "      <th>Country</th>\n",
       "      <th>Last Update</th>\n",
       "      <th>Confirmed</th>\n",
       "      <th>Deaths</th>\n",
       "      <th>Recovered</th>\n",
       "      <th>Days</th>\n",
       "    </tr>\n",
       "  </thead>\n",
       "  <tbody>\n",
       "    <tr>\n",
       "      <th>13</th>\n",
       "      <td>14</td>\n",
       "      <td>2020-01-22</td>\n",
       "      <td>Hubei</td>\n",
       "      <td>Mainland China</td>\n",
       "      <td>1/22/2020 12:00</td>\n",
       "      <td>444.0</td>\n",
       "      <td>0.0</td>\n",
       "      <td>0.0</td>\n",
       "      <td>0</td>\n",
       "    </tr>\n",
       "    <tr>\n",
       "      <th>51</th>\n",
       "      <td>52</td>\n",
       "      <td>2020-01-23</td>\n",
       "      <td>Hubei</td>\n",
       "      <td>Mainland China</td>\n",
       "      <td>1/23/20 12:00 PM</td>\n",
       "      <td>444.0</td>\n",
       "      <td>17.0</td>\n",
       "      <td>28.0</td>\n",
       "      <td>1</td>\n",
       "    </tr>\n",
       "    <tr>\n",
       "      <th>83</th>\n",
       "      <td>84</td>\n",
       "      <td>2020-01-24</td>\n",
       "      <td>Hubei</td>\n",
       "      <td>Mainland China</td>\n",
       "      <td>1/24/2020 12:00 PM</td>\n",
       "      <td>549.0</td>\n",
       "      <td>24.0</td>\n",
       "      <td>31.0</td>\n",
       "      <td>2</td>\n",
       "    </tr>\n",
       "    <tr>\n",
       "      <th>124</th>\n",
       "      <td>125</td>\n",
       "      <td>2020-01-25</td>\n",
       "      <td>Hubei</td>\n",
       "      <td>Mainland China</td>\n",
       "      <td>1/25/2020 10:00 PM</td>\n",
       "      <td>1052.0</td>\n",
       "      <td>52.0</td>\n",
       "      <td>42.0</td>\n",
       "      <td>3</td>\n",
       "    </tr>\n",
       "    <tr>\n",
       "      <th>168</th>\n",
       "      <td>169</td>\n",
       "      <td>2020-01-26</td>\n",
       "      <td>Hubei</td>\n",
       "      <td>Mainland China</td>\n",
       "      <td>1/26/2020 23:00</td>\n",
       "      <td>1423.0</td>\n",
       "      <td>76.0</td>\n",
       "      <td>44.0</td>\n",
       "      <td>4</td>\n",
       "    </tr>\n",
       "    <tr>\n",
       "      <th>215</th>\n",
       "      <td>216</td>\n",
       "      <td>2020-01-27</td>\n",
       "      <td>Hubei</td>\n",
       "      <td>Mainland China</td>\n",
       "      <td>1/27/2020 20:30</td>\n",
       "      <td>2714.0</td>\n",
       "      <td>100.0</td>\n",
       "      <td>47.0</td>\n",
       "      <td>5</td>\n",
       "    </tr>\n",
       "    <tr>\n",
       "      <th>267</th>\n",
       "      <td>268</td>\n",
       "      <td>2020-01-28</td>\n",
       "      <td>Hubei</td>\n",
       "      <td>Mainland China</td>\n",
       "      <td>1/28/2020 23:00</td>\n",
       "      <td>3554.0</td>\n",
       "      <td>125.0</td>\n",
       "      <td>80.0</td>\n",
       "      <td>6</td>\n",
       "    </tr>\n",
       "    <tr>\n",
       "      <th>319</th>\n",
       "      <td>320</td>\n",
       "      <td>2020-01-29</td>\n",
       "      <td>Hubei</td>\n",
       "      <td>Mainland China</td>\n",
       "      <td>1/29/2020 21:00</td>\n",
       "      <td>4586.0</td>\n",
       "      <td>162.0</td>\n",
       "      <td>90.0</td>\n",
       "      <td>7</td>\n",
       "    </tr>\n",
       "    <tr>\n",
       "      <th>375</th>\n",
       "      <td>376</td>\n",
       "      <td>2020-01-30</td>\n",
       "      <td>Hubei</td>\n",
       "      <td>Mainland China</td>\n",
       "      <td>1/30/2020 21:30</td>\n",
       "      <td>5806.0</td>\n",
       "      <td>204.0</td>\n",
       "      <td>116.0</td>\n",
       "      <td>8</td>\n",
       "    </tr>\n",
       "    <tr>\n",
       "      <th>434</th>\n",
       "      <td>435</td>\n",
       "      <td>2020-01-31</td>\n",
       "      <td>Hubei</td>\n",
       "      <td>Mainland China</td>\n",
       "      <td>1/31/2020 19:00</td>\n",
       "      <td>7153.0</td>\n",
       "      <td>249.0</td>\n",
       "      <td>169.0</td>\n",
       "      <td>9</td>\n",
       "    </tr>\n",
       "    <tr>\n",
       "      <th>497</th>\n",
       "      <td>498</td>\n",
       "      <td>2020-02-01</td>\n",
       "      <td>Hubei</td>\n",
       "      <td>Mainland China</td>\n",
       "      <td>2020-01-02 23:33:00</td>\n",
       "      <td>9074.0</td>\n",
       "      <td>294.0</td>\n",
       "      <td>215.0</td>\n",
       "      <td>10</td>\n",
       "    </tr>\n",
       "    <tr>\n",
       "      <th>564</th>\n",
       "      <td>565</td>\n",
       "      <td>2020-02-02</td>\n",
       "      <td>Hubei</td>\n",
       "      <td>Mainland China</td>\n",
       "      <td>2020-02-02 23:43:00</td>\n",
       "      <td>11177.0</td>\n",
       "      <td>350.0</td>\n",
       "      <td>295.0</td>\n",
       "      <td>11</td>\n",
       "    </tr>\n",
       "  </tbody>\n",
       "</table>\n",
       "</div>"
      ],
      "text/plain": [
       "     Sno        Date Province/State         Country          Last Update  \\\n",
       "13    14  2020-01-22          Hubei  Mainland China      1/22/2020 12:00   \n",
       "51    52  2020-01-23          Hubei  Mainland China     1/23/20 12:00 PM   \n",
       "83    84  2020-01-24          Hubei  Mainland China   1/24/2020 12:00 PM   \n",
       "124  125  2020-01-25          Hubei  Mainland China   1/25/2020 10:00 PM   \n",
       "168  169  2020-01-26          Hubei  Mainland China      1/26/2020 23:00   \n",
       "215  216  2020-01-27          Hubei  Mainland China      1/27/2020 20:30   \n",
       "267  268  2020-01-28          Hubei  Mainland China      1/28/2020 23:00   \n",
       "319  320  2020-01-29          Hubei  Mainland China      1/29/2020 21:00   \n",
       "375  376  2020-01-30          Hubei  Mainland China      1/30/2020 21:30   \n",
       "434  435  2020-01-31          Hubei  Mainland China      1/31/2020 19:00   \n",
       "497  498  2020-02-01          Hubei  Mainland China  2020-01-02 23:33:00   \n",
       "564  565  2020-02-02          Hubei  Mainland China  2020-02-02 23:43:00   \n",
       "\n",
       "     Confirmed  Deaths  Recovered  Days  \n",
       "13       444.0     0.0        0.0     0  \n",
       "51       444.0    17.0       28.0     1  \n",
       "83       549.0    24.0       31.0     2  \n",
       "124     1052.0    52.0       42.0     3  \n",
       "168     1423.0    76.0       44.0     4  \n",
       "215     2714.0   100.0       47.0     5  \n",
       "267     3554.0   125.0       80.0     6  \n",
       "319     4586.0   162.0       90.0     7  \n",
       "375     5806.0   204.0      116.0     8  \n",
       "434     7153.0   249.0      169.0     9  \n",
       "497     9074.0   294.0      215.0    10  \n",
       "564    11177.0   350.0      295.0    11  "
      ]
     },
     "execution_count": 105,
     "metadata": {},
     "output_type": "execute_result"
    }
   ],
   "source": [
    "df_Hubei = df_disease[df_disease['Province/State']== target_place]\n",
    "df_Hubei.Date = pd.to_datetime(df_Hubei.Date)\n",
    "df_Hubei.Date = df_Hubei.Date.dt.date\n",
    "# 日付の記述が間違っているので修正\n",
    "df_Hubei.Date[df_Hubei.Date== datetime.date(2020,1,2)]= datetime.date(2020,2,1)\n",
    "# 開始からの日付の追加\n",
    "df_Hubei['Days'] = df_Hubei.Date - df_Hubei.Date.values[0]\n",
    "df_Hubei['Days'] = df_Hubei['Days'].dt.days\n",
    "df_Hubei"
   ]
  },
  {
   "cell_type": "markdown",
   "metadata": {},
   "source": [
    "## 武漢の現状のプロット"
   ]
  },
  {
   "cell_type": "code",
   "execution_count": 114,
   "metadata": {},
   "outputs": [
    {
     "data": {
      "image/png": "[encoded data removed]",
      "text/plain": [
       "<Figure size 432x288 with 1 Axes>"
      ]
     },
     "metadata": {
      "needs_background": "light"
     },
     "output_type": "display_data"
    }
   ],
   "source": [
    "plt.plot(df_Hubei.Date,df_Hubei.Confirmed,label = 'Confirmed')\n",
    "plt.plot(df_Hubei.Date,df_Hubei.Deaths,label = 'Deaths')\n",
    "plt.plot(df_Hubei.Date,df_Hubei.Recovered,label = 'Recovered')\n",
    "plt.legend()\n",
    "plt.grid()\n",
    "plt.xticks(df_Hubei.Date,rotation=70)\n",
    "plt.ylabel('Population [num]')\n",
    "plt.savefig('sample_img/Hubei_time_dose.png')"
   ]
  },
  {
   "cell_type": "markdown",
   "metadata": {},
   "source": [
    "## SIRモデルの設計\n",
    "\n",
    "死亡者も回復したヒトも，免疫を獲得していると考えることができるため，\n",
    "\n",
    "Rt = df_Hubei.Deaths + df_Hubei.Recovered\n"
   ]
  },
  {
   "cell_type": "code",
   "execution_count": 128,
   "metadata": {},
   "outputs": [],
   "source": [
    "days = df_Hubei.Days.values\n",
    "I_days = df_Hubei.Confirmed.values\n",
    "R_days = df_Hubei.Deaths.values + df_Hubei.Recovered.values\n",
    "S_days = N - (It + Rt)"
   ]
  },
  {
   "cell_type": "code",
   "execution_count": 206,
   "metadata": {},
   "outputs": [],
   "source": []
  },
  {
   "cell_type": "code",
   "execution_count": 250,
   "metadata": {},
   "outputs": [],
   "source": []
  },
  {
   "cell_type": "markdown",
   "metadata": {},
   "source": [
    "# SIR モデルによる時系列データの生成\n",
    "\n",
    "初期のデータは信憑性が低いため，直近の値をもとに，微分方程式を逆向きに解く\n"
   ]
  },
  {
   "cell_type": "code",
   "execution_count": 251,
   "metadata": {},
   "outputs": [],
   "source": [
    "beta = 1e-8\n",
    "gamma = 1e-2\n",
    "h = 0.01\n",
    "times = np.arange(0,days[-1]+h,h)\n",
    "\n",
    "\n",
    "St = np.zeros(times.shape)\n",
    "It = np.zeros(times.shape)\n",
    "Rt = np.zeros(times.shape)\n",
    "St[-1] = S_days[-1]\n",
    "It[-1] = I_days[-1]\n",
    "Rt[-1] = R_days[-1]\n",
    "\n",
    "\n",
    "for i in range(times.shape[0]-1):\n",
    "    St[-i-2] = St[-i-1] +  h*(beta * St[-i-1] * It[-i-1])\n",
    "    It[-i-2] = It[-i-1] +  h*(-beta * St[-i-1] * It[-i-1] + gamma * It[-i-1])\n",
    "    Rt[-i-2] = Rt[-i-1] +  h*(-gamma * It[-i-1])\n",
    "#     非不のシステムなので\n",
    "    if St[-i-2]<0:\n",
    "        St[-i-2] = 0\n",
    "    if It[-i-2]<0:\n",
    "        It[-i-2] = 0\n",
    "    if Rt[-i-2]<0:\n",
    "        Rt[-i-2] = 0\n",
    "\n",
    "\n",
    "\n",
    "    "
   ]
  },
  {
   "cell_type": "code",
   "execution_count": 289,
   "metadata": {},
   "outputs": [
    {
     "data": {
      "text/plain": [
       "<matplotlib.legend.Legend at 0x11f233290>"
      ]
     },
     "execution_count": 289,
     "metadata": {},
     "output_type": "execute_result"
    },
    {
     "data": {
      "image/png": "[encoded data removed]",
      "text/plain": [
       "<Figure size 432x288 with 1 Axes>"
      ]
     },
     "metadata": {
      "needs_background": "light"
     },
     "output_type": "display_data"
    }
   ],
   "source": [
    "# とりあえずプロット\n",
    "plt.plot(times,It,label='I')\n",
    "plt.plot(times,Rt,label='R')\n",
    "plt.plot(days,I_days,label='I_days')\n",
    "plt.plot(days,R_days,label='R_days')\n",
    "plt.legend()"
   ]
  },
  {
   "cell_type": "markdown",
   "metadata": {},
   "source": [
    "## パラメータフィッティング\n",
    "\n",
    "とっても適当な更新則"
   ]
  },
  {
   "cell_type": "code",
   "execution_count": 330,
   "metadata": {},
   "outputs": [],
   "source": [
    "N_opt = 100\n",
    "gammas= np.zeros(N_opt)\n",
    "betas= np.zeros(N_opt)\n",
    "gammas[0] = gamma\n",
    "betas[0] = beta\n",
    "\n",
    "\n",
    "St = np.zeros(times.shape)\n",
    "It = np.zeros(times.shape)\n",
    "Rt = np.zeros(times.shape)\n",
    "St[-1] = S_days[-1]\n",
    "It[-1] = I_days[-1]\n",
    "Rt[-1] = R_days[-1]\n",
    "\n",
    "for i_opt in range(N_opt-1):\n",
    "    #SIRモデルによる微分方程式の解（逆向き）    \n",
    "    for i in range(times.shape[0]-1):\n",
    "        St[-i-2] = St[-i-1] +  h*(betas[i_opt] * St[-i-1] * It[-i-1])\n",
    "        It[-i-2] = It[-i-1] +  h*(-betas[i_opt] * St[-i-1] * It[-i-1] + gammas[i_opt] * It[-i-1])\n",
    "        Rt[-i-2] = Rt[-i-1] +  h*(-gammas[i_opt] * It[-i-1])\n",
    "    #     非不のシステムなので\n",
    "        if St[-i-2]<0:\n",
    "            St[-i-2] = 0\n",
    "        if It[-i-2]<0:\n",
    "            It[-i-2] = 0\n",
    "        if Rt[-i-2]<0:\n",
    "            Rt[-i-2] = 0\n",
    "# 適当更新則\n",
    "    gammas[i_opt+1] = gammas[i_opt] - 1e-5 * np.mean(R_days - Rt[::int(1/h)])\n",
    "    betas[i_opt+1] = betas[i_opt] - 1e-14 * np.mean(I_days - It[::int(1/h)])\n",
    "    \n",
    "    if gammas[i_opt+1]<0:\n",
    "        gammas[i_opt+1] = 0\n",
    "    if betas[i_opt+1]<0:\n",
    "        betas[i_opt+1] = 0\n",
    "\n",
    "\n",
    "\n",
    "\n",
    "    "
   ]
  },
  {
   "cell_type": "code",
   "execution_count": 346,
   "metadata": {},
   "outputs": [
    {
     "data": {
      "image/png": "[encoded data removed]",
      "text/plain": [
       "<Figure size 432x288 with 1 Axes>"
      ]
     },
     "metadata": {
      "needs_background": "light"
     },
     "output_type": "display_data"
    }
   ],
   "source": [
    "plt.plot(times,It,label='Infected peoples by SIR model')\n",
    "plt.plot(times,Rt,label='Recovered peoples by SIR model')\n",
    "plt.scatter(days,I_days,label='Observed infected peoples')\n",
    "plt.scatter(days,R_days,label='Observed recovered peoples')\n",
    "plt.ylabel('Population[num]')\n",
    "plt.legend()\n",
    "plt.grid()\n",
    "plt.xticks(days)\n",
    "plt.xlabel('Day (day = 0 $\\leftrightarrow$ 2020-1-22)')\n",
    "\n",
    "plt.title('Observed Data and SIR model results in Hubei \\n beta = {0:e}, gamma = {1:e}'.format(betas[-2],gammas[-2]))\n",
    "plt.savefig('sample_img/SIR_model_Hubei.png')"
   ]
  },
  {
   "cell_type": "code",
   "execution_count": null,
   "metadata": {},
   "outputs": [],
   "source": []
  },
  {
   "cell_type": "markdown",
   "metadata": {},
   "source": [
    "# 将来予測"
   ]
  },
  {
   "cell_type": "code",
   "execution_count": 335,
   "metadata": {},
   "outputs": [],
   "source": [
    "\n",
    "times_f = np.arange(days[-1],365+h,h)\n",
    "\n",
    "\n",
    "beta = betas[-2] \n",
    "gamma = gammas[-2]\n",
    "\n",
    "\n",
    "Sf = np.zeros(times_f.shape)\n",
    "If = np.zeros(times_f.shape)\n",
    "Rf = np.zeros(times_f.shape)\n",
    "Sf[0] = S_days[-1]\n",
    "If[0] = I_days[-1]\n",
    "Rf[0] = R_days[-1]\n",
    "\n",
    "\n",
    "for i in range(times_f.shape[0]-1):\n",
    "    Sf[i+1] = Sf[i] +  h*(-beta * Sf[i] * If[i])\n",
    "    If[i+1] = If[i] +  h*(beta * Sf[i] * If[i] - gamma * If[i])\n",
    "    Rf[i+1] = Rf[i] +  h*(gamma * If[i])\n",
    "#     非不のシステムなので\n",
    "    if Sf[i+1]<0:\n",
    "        Sf[i+1] = 0\n",
    "    if If[i+1]<0:\n",
    "        If[i+1] = 0\n",
    "    if Rf[i+1]<0:\n",
    "        Rf[i+1] = 0\n",
    "\n",
    "\n",
    "\n",
    "    "
   ]
  },
  {
   "cell_type": "code",
   "execution_count": 360,
   "metadata": {},
   "outputs": [
    {
     "data": {
      "image/png": "[encoded data removed]",
      "text/plain": [
       "<Figure size 432x288 with 1 Axes>"
      ]
     },
     "metadata": {
      "needs_background": "light"
     },
     "output_type": "display_data"
    }
   ],
   "source": [
    "# plt.plot(times,It,label='Infected peoples by SIR model',color = 'red')\n",
    "\n",
    "plt.plot(times_f,If,label='Infected peoples by SIR model')\n",
    "plt.plot(times_f,Rf,label='Recovered peoples by SIR model')\n",
    "plt.plot(times_f,Sf,label='Susceptible peoples by SIR model')\n",
    "\n",
    "\n",
    "\n",
    "plt.ylabel('Population[num]')\n",
    "plt.title('Hubei future by SIR model')\n",
    "plt.xlabel('Day (day = 0 $\\leftrightarrow$ 2020-1-22)')\n",
    "\n",
    "plt.grid()\n",
    "plt.legend()\n",
    "\n",
    "plt.savefig('sample_img/Hubei_future.png')"
   ]
  },
  {
   "cell_type": "code",
   "execution_count": 355,
   "metadata": {},
   "outputs": [
    {
     "data": {
      "text/plain": [
       "3.1350769901925753e-07"
      ]
     },
     "execution_count": 355,
     "metadata": {},
     "output_type": "execute_result"
    }
   ],
   "source": []
  },
  {
   "cell_type": "code",
   "execution_count": null,
   "metadata": {},
   "outputs": [],
   "source": []
  }
 ],
 "metadata": {
  "kernelspec": {
   "display_name": "Python 3",
   "language": "python",
   "name": "python3"
  },
  "language_info": {
   "codemirror_mode": {
    "name": "ipython",
    "version": 3
   },
   "file_extension": ".py",
   "mimetype": "text/x-python",
   "name": "python",
   "nbconvert_exporter": "python",
   "pygments_lexer": "ipython3",
   "version": "3.7.4"
  }
 },
 "nbformat": 4,
 "nbformat_minor": 2
}
